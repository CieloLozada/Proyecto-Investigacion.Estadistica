{
  "cells": [
    {
      "cell_type": "markdown",
      "metadata": {
        "id": "Pysy84fho0zJ"
      },
      "source": [
        "# Predicción de Series Temporales con Redes Neuronales"
      ]
    },
    {
      "cell_type": "markdown",
      "metadata": {
        "id": "dxsY8E0wo0zP"
      },
      "source": [
        "El artículo completo con la explicación detallada en el blog: http://www.aprendemachinelearning.com/"
      ]
    },
    {
      "cell_type": "markdown",
      "metadata": {
        "id": "NAjwRqSso0zP"
      },
      "source": [
        "## Usaremos Keras y Tensorflow"
      ]
    },
    {
      "cell_type": "markdown",
      "metadata": {
        "id": "sA4EMlIho0zP"
      },
      "source": [
        "Importamos las Librerías que vamos a utilizar"
      ]
    },
    {
      "cell_type": "code",
      "execution_count": null,
      "metadata": {
        "ExecuteTime": {
          "end_time": "2019-02-25T20:51:03.702007Z",
          "start_time": "2019-02-25T20:50:45.180334Z"
        },
        "id": "m5JLxb6Lo0zP"
      },
      "outputs": [],
      "source": [
        "import pandas as pd\n",
        "import numpy as np\n",
        "from sklearn.metrics import mean_absolute_error, mean_squared_error\n",
        "from math import sqrt\n",
        "import matplotlib.pylab as plt\n",
        "%matplotlib inline\n",
        "plt.rcParams['figure.figsize'] = (16, 9)\n",
        "plt.style.use('fast')\n",
        "\n",
        "from keras.models import Sequential\n",
        "from keras.layers import Dense,Activation,Flatten\n",
        "from sklearn.preprocessing import MinMaxScaler"
      ]
    },
    {
      "cell_type": "markdown",
      "metadata": {
        "id": "C3ftpX8to0zQ"
      },
      "source": [
        "### Cargamos nuestro Dataset"
      ]
    },
    {
      "cell_type": "code",
      "execution_count": null,
      "metadata": {
        "ExecuteTime": {
          "end_time": "2019-02-25T20:51:03.748521Z",
          "start_time": "2019-02-25T20:51:03.704287Z"
        },
        "colab": {
          "base_uri": "https://localhost:8080/",
          "height": 455
        },
        "id": "ZJbi7tydo0zQ",
        "outputId": "8ae7b440-0110-4f30-c17c-498557a96b2d"
      },
      "outputs": [
        {
          "output_type": "execute_result",
          "data": {
            "text/plain": [
              "              Residuales\n",
              "Periodo                 \n",
              "2001-01-01    204.202959\n",
              "2001-02-01 -12926.864960\n",
              "2001-03-01   5941.806221\n",
              "2001-04-01  -4052.989250\n",
              "2001-05-01   9629.944185\n",
              "...                  ...\n",
              "2023-02-01 -10990.455430\n",
              "2023-03-01   1558.534880\n",
              "2023-04-01  15761.494470\n",
              "2023-05-01  -4215.627538\n",
              "2023-06-01  27697.195200\n",
              "\n",
              "[270 rows x 1 columns]"
            ],
            "text/html": [
              "\n",
              "  <div id=\"df-c98901da-5efd-40c6-bd6e-15550b19dc3f\" class=\"colab-df-container\">\n",
              "    <div>\n",
              "<style scoped>\n",
              "    .dataframe tbody tr th:only-of-type {\n",
              "        vertical-align: middle;\n",
              "    }\n",
              "\n",
              "    .dataframe tbody tr th {\n",
              "        vertical-align: top;\n",
              "    }\n",
              "\n",
              "    .dataframe thead th {\n",
              "        text-align: right;\n",
              "    }\n",
              "</style>\n",
              "<table border=\"1\" class=\"dataframe\">\n",
              "  <thead>\n",
              "    <tr style=\"text-align: right;\">\n",
              "      <th></th>\n",
              "      <th>Residuales</th>\n",
              "    </tr>\n",
              "    <tr>\n",
              "      <th>Periodo</th>\n",
              "      <th></th>\n",
              "    </tr>\n",
              "  </thead>\n",
              "  <tbody>\n",
              "    <tr>\n",
              "      <th>2001-01-01</th>\n",
              "      <td>204.202959</td>\n",
              "    </tr>\n",
              "    <tr>\n",
              "      <th>2001-02-01</th>\n",
              "      <td>-12926.864960</td>\n",
              "    </tr>\n",
              "    <tr>\n",
              "      <th>2001-03-01</th>\n",
              "      <td>5941.806221</td>\n",
              "    </tr>\n",
              "    <tr>\n",
              "      <th>2001-04-01</th>\n",
              "      <td>-4052.989250</td>\n",
              "    </tr>\n",
              "    <tr>\n",
              "      <th>2001-05-01</th>\n",
              "      <td>9629.944185</td>\n",
              "    </tr>\n",
              "    <tr>\n",
              "      <th>...</th>\n",
              "      <td>...</td>\n",
              "    </tr>\n",
              "    <tr>\n",
              "      <th>2023-02-01</th>\n",
              "      <td>-10990.455430</td>\n",
              "    </tr>\n",
              "    <tr>\n",
              "      <th>2023-03-01</th>\n",
              "      <td>1558.534880</td>\n",
              "    </tr>\n",
              "    <tr>\n",
              "      <th>2023-04-01</th>\n",
              "      <td>15761.494470</td>\n",
              "    </tr>\n",
              "    <tr>\n",
              "      <th>2023-05-01</th>\n",
              "      <td>-4215.627538</td>\n",
              "    </tr>\n",
              "    <tr>\n",
              "      <th>2023-06-01</th>\n",
              "      <td>27697.195200</td>\n",
              "    </tr>\n",
              "  </tbody>\n",
              "</table>\n",
              "<p>270 rows × 1 columns</p>\n",
              "</div>\n",
              "    <div class=\"colab-df-buttons\">\n",
              "\n",
              "  <div class=\"colab-df-container\">\n",
              "    <button class=\"colab-df-convert\" onclick=\"convertToInteractive('df-c98901da-5efd-40c6-bd6e-15550b19dc3f')\"\n",
              "            title=\"Convert this dataframe to an interactive table.\"\n",
              "            style=\"display:none;\">\n",
              "\n",
              "  <svg xmlns=\"http://www.w3.org/2000/svg\" height=\"24px\" viewBox=\"0 -960 960 960\">\n",
              "    <path d=\"M120-120v-720h720v720H120Zm60-500h600v-160H180v160Zm220 220h160v-160H400v160Zm0 220h160v-160H400v160ZM180-400h160v-160H180v160Zm440 0h160v-160H620v160ZM180-180h160v-160H180v160Zm440 0h160v-160H620v160Z\"/>\n",
              "  </svg>\n",
              "    </button>\n",
              "\n",
              "  <style>\n",
              "    .colab-df-container {\n",
              "      display:flex;\n",
              "      gap: 12px;\n",
              "    }\n",
              "\n",
              "    .colab-df-convert {\n",
              "      background-color: #E8F0FE;\n",
              "      border: none;\n",
              "      border-radius: 50%;\n",
              "      cursor: pointer;\n",
              "      display: none;\n",
              "      fill: #1967D2;\n",
              "      height: 32px;\n",
              "      padding: 0 0 0 0;\n",
              "      width: 32px;\n",
              "    }\n",
              "\n",
              "    .colab-df-convert:hover {\n",
              "      background-color: #E2EBFA;\n",
              "      box-shadow: 0px 1px 2px rgba(60, 64, 67, 0.3), 0px 1px 3px 1px rgba(60, 64, 67, 0.15);\n",
              "      fill: #174EA6;\n",
              "    }\n",
              "\n",
              "    .colab-df-buttons div {\n",
              "      margin-bottom: 4px;\n",
              "    }\n",
              "\n",
              "    [theme=dark] .colab-df-convert {\n",
              "      background-color: #3B4455;\n",
              "      fill: #D2E3FC;\n",
              "    }\n",
              "\n",
              "    [theme=dark] .colab-df-convert:hover {\n",
              "      background-color: #434B5C;\n",
              "      box-shadow: 0px 1px 3px 1px rgba(0, 0, 0, 0.15);\n",
              "      filter: drop-shadow(0px 1px 2px rgba(0, 0, 0, 0.3));\n",
              "      fill: #FFFFFF;\n",
              "    }\n",
              "  </style>\n",
              "\n",
              "    <script>\n",
              "      const buttonEl =\n",
              "        document.querySelector('#df-c98901da-5efd-40c6-bd6e-15550b19dc3f button.colab-df-convert');\n",
              "      buttonEl.style.display =\n",
              "        google.colab.kernel.accessAllowed ? 'block' : 'none';\n",
              "\n",
              "      async function convertToInteractive(key) {\n",
              "        const element = document.querySelector('#df-c98901da-5efd-40c6-bd6e-15550b19dc3f');\n",
              "        const dataTable =\n",
              "          await google.colab.kernel.invokeFunction('convertToInteractive',\n",
              "                                                    [key], {});\n",
              "        if (!dataTable) return;\n",
              "\n",
              "        const docLinkHtml = 'Like what you see? Visit the ' +\n",
              "          '<a target=\"_blank\" href=https://colab.research.google.com/notebooks/data_table.ipynb>data table notebook</a>'\n",
              "          + ' to learn more about interactive tables.';\n",
              "        element.innerHTML = '';\n",
              "        dataTable['output_type'] = 'display_data';\n",
              "        await google.colab.output.renderOutput(dataTable, element);\n",
              "        const docLink = document.createElement('div');\n",
              "        docLink.innerHTML = docLinkHtml;\n",
              "        element.appendChild(docLink);\n",
              "      }\n",
              "    </script>\n",
              "  </div>\n",
              "\n",
              "\n",
              "<div id=\"df-3c24fbc3-75d9-4138-9dfb-5775a11af8ae\">\n",
              "  <button class=\"colab-df-quickchart\" onclick=\"quickchart('df-3c24fbc3-75d9-4138-9dfb-5775a11af8ae')\"\n",
              "            title=\"Suggest charts\"\n",
              "            style=\"display:none;\">\n",
              "\n",
              "<svg xmlns=\"http://www.w3.org/2000/svg\" height=\"24px\"viewBox=\"0 0 24 24\"\n",
              "     width=\"24px\">\n",
              "    <g>\n",
              "        <path d=\"M19 3H5c-1.1 0-2 .9-2 2v14c0 1.1.9 2 2 2h14c1.1 0 2-.9 2-2V5c0-1.1-.9-2-2-2zM9 17H7v-7h2v7zm4 0h-2V7h2v10zm4 0h-2v-4h2v4z\"/>\n",
              "    </g>\n",
              "</svg>\n",
              "  </button>\n",
              "\n",
              "<style>\n",
              "  .colab-df-quickchart {\n",
              "      --bg-color: #E8F0FE;\n",
              "      --fill-color: #1967D2;\n",
              "      --hover-bg-color: #E2EBFA;\n",
              "      --hover-fill-color: #174EA6;\n",
              "      --disabled-fill-color: #AAA;\n",
              "      --disabled-bg-color: #DDD;\n",
              "  }\n",
              "\n",
              "  [theme=dark] .colab-df-quickchart {\n",
              "      --bg-color: #3B4455;\n",
              "      --fill-color: #D2E3FC;\n",
              "      --hover-bg-color: #434B5C;\n",
              "      --hover-fill-color: #FFFFFF;\n",
              "      --disabled-bg-color: #3B4455;\n",
              "      --disabled-fill-color: #666;\n",
              "  }\n",
              "\n",
              "  .colab-df-quickchart {\n",
              "    background-color: var(--bg-color);\n",
              "    border: none;\n",
              "    border-radius: 50%;\n",
              "    cursor: pointer;\n",
              "    display: none;\n",
              "    fill: var(--fill-color);\n",
              "    height: 32px;\n",
              "    padding: 0;\n",
              "    width: 32px;\n",
              "  }\n",
              "\n",
              "  .colab-df-quickchart:hover {\n",
              "    background-color: var(--hover-bg-color);\n",
              "    box-shadow: 0 1px 2px rgba(60, 64, 67, 0.3), 0 1px 3px 1px rgba(60, 64, 67, 0.15);\n",
              "    fill: var(--button-hover-fill-color);\n",
              "  }\n",
              "\n",
              "  .colab-df-quickchart-complete:disabled,\n",
              "  .colab-df-quickchart-complete:disabled:hover {\n",
              "    background-color: var(--disabled-bg-color);\n",
              "    fill: var(--disabled-fill-color);\n",
              "    box-shadow: none;\n",
              "  }\n",
              "\n",
              "  .colab-df-spinner {\n",
              "    border: 2px solid var(--fill-color);\n",
              "    border-color: transparent;\n",
              "    border-bottom-color: var(--fill-color);\n",
              "    animation:\n",
              "      spin 1s steps(1) infinite;\n",
              "  }\n",
              "\n",
              "  @keyframes spin {\n",
              "    0% {\n",
              "      border-color: transparent;\n",
              "      border-bottom-color: var(--fill-color);\n",
              "      border-left-color: var(--fill-color);\n",
              "    }\n",
              "    20% {\n",
              "      border-color: transparent;\n",
              "      border-left-color: var(--fill-color);\n",
              "      border-top-color: var(--fill-color);\n",
              "    }\n",
              "    30% {\n",
              "      border-color: transparent;\n",
              "      border-left-color: var(--fill-color);\n",
              "      border-top-color: var(--fill-color);\n",
              "      border-right-color: var(--fill-color);\n",
              "    }\n",
              "    40% {\n",
              "      border-color: transparent;\n",
              "      border-right-color: var(--fill-color);\n",
              "      border-top-color: var(--fill-color);\n",
              "    }\n",
              "    60% {\n",
              "      border-color: transparent;\n",
              "      border-right-color: var(--fill-color);\n",
              "    }\n",
              "    80% {\n",
              "      border-color: transparent;\n",
              "      border-right-color: var(--fill-color);\n",
              "      border-bottom-color: var(--fill-color);\n",
              "    }\n",
              "    90% {\n",
              "      border-color: transparent;\n",
              "      border-bottom-color: var(--fill-color);\n",
              "    }\n",
              "  }\n",
              "</style>\n",
              "\n",
              "  <script>\n",
              "    async function quickchart(key) {\n",
              "      const quickchartButtonEl =\n",
              "        document.querySelector('#' + key + ' button');\n",
              "      quickchartButtonEl.disabled = true;  // To prevent multiple clicks.\n",
              "      quickchartButtonEl.classList.add('colab-df-spinner');\n",
              "      try {\n",
              "        const charts = await google.colab.kernel.invokeFunction(\n",
              "            'suggestCharts', [key], {});\n",
              "      } catch (error) {\n",
              "        console.error('Error during call to suggestCharts:', error);\n",
              "      }\n",
              "      quickchartButtonEl.classList.remove('colab-df-spinner');\n",
              "      quickchartButtonEl.classList.add('colab-df-quickchart-complete');\n",
              "    }\n",
              "    (() => {\n",
              "      let quickchartButtonEl =\n",
              "        document.querySelector('#df-3c24fbc3-75d9-4138-9dfb-5775a11af8ae button');\n",
              "      quickchartButtonEl.style.display =\n",
              "        google.colab.kernel.accessAllowed ? 'block' : 'none';\n",
              "    })();\n",
              "  </script>\n",
              "</div>\n",
              "    </div>\n",
              "  </div>\n"
            ]
          },
          "metadata": {},
          "execution_count": 8
        }
      ],
      "source": [
        "df = pd.read_csv('Residuales.csv')\n",
        "df['Periodo'] = pd.to_datetime(df['Periodo'])\n",
        "df.set_index('Periodo', inplace =True)\n",
        "df"
      ]
    },
    {
      "cell_type": "code",
      "execution_count": null,
      "metadata": {
        "ExecuteTime": {
          "end_time": "2019-02-25T20:51:03.765627Z",
          "start_time": "2019-02-25T20:51:03.753400Z"
        },
        "colab": {
          "base_uri": "https://localhost:8080/"
        },
        "id": "Hc6vcZtqo0zR",
        "outputId": "2ad666f2-a853-4895-a19b-b50e90584720"
      },
      "outputs": [
        {
          "output_type": "stream",
          "name": "stdout",
          "text": [
            "<class 'pandas.core.frame.DataFrame'>\n",
            "DatetimeIndex: 270 entries, 2001-01-01 to 2023-06-01\n",
            "Data columns (total 1 columns):\n",
            " #   Column      Non-Null Count  Dtype  \n",
            "---  ------      --------------  -----  \n",
            " 0   Residuales  270 non-null    float64\n",
            "dtypes: float64(1)\n",
            "memory usage: 4.2 KB\n"
          ]
        }
      ],
      "source": [
        "df.info()"
      ]
    },
    {
      "cell_type": "markdown",
      "source": [
        "### Cargamos las predicciones"
      ],
      "metadata": {
        "id": "WukiSulSFxE2"
      }
    },
    {
      "cell_type": "code",
      "source": [
        "Predicciones = pd.read_csv(\"predicciones.csv\",sep=',')\n",
        "Predicciones = np.ravel(Predicciones)\n",
        "Predicciones"
      ],
      "metadata": {
        "id": "QcgD5oXj6kh7",
        "colab": {
          "base_uri": "https://localhost:8080/"
        },
        "outputId": "bd7a3b86-3c5d-44ef-f35b-49493361854f"
      },
      "execution_count": null,
      "outputs": [
        {
          "output_type": "execute_result",
          "data": {
            "text/plain": [
              "array([256054.74987657, 248318.38162202, 256271.79253835, 251683.1960663 ,\n",
              "       263829.48262881, 263584.21993736, 265155.4302604 , 271190.24132205,\n",
              "       263163.95801613, 263007.81534794, 261623.65898023, 273539.56349901,\n",
              "       241912.59078922, 234061.34840481, 238430.76688637, 233893.44918756,\n",
              "       246742.90997693, 246556.79677497])"
            ]
          },
          "metadata": {},
          "execution_count": 3
        }
      ]
    },
    {
      "cell_type": "markdown",
      "source": [
        "### Cargamos los datos de testeo"
      ],
      "metadata": {
        "id": "GrZnPQ7DF6h-"
      }
    },
    {
      "cell_type": "code",
      "source": [
        "Serie_plata = pd.read_csv(\"CP2_more_PERI_2021.csv\",sep=',')\n",
        "Serie_plata = np.ravel(Serie_plata[(270-18):]['CP2_more_PERI_2021'])\n",
        "Serie_plata"
      ],
      "metadata": {
        "colab": {
          "base_uri": "https://localhost:8080/"
        },
        "id": "ysDVYocq6veN",
        "outputId": "8f880362-5315-419f-b0d2-5aac24b058b2"
      },
      "execution_count": null,
      "outputs": [
        {
          "output_type": "execute_result",
          "data": {
            "text/plain": [
              "array([254325.67666696, 242848.52301537, 241446.119808  , 247226.5134573 ,\n",
              "       251878.22896203, 257645.018077  , 249824.96724563, 270285.83457504,\n",
              "       254721.599202  , 263906.42397945, 244462.15808061, 276693.188497  ,\n",
              "       205489.0143848 , 223070.89297369, 239989.30176629, 249654.94365682,\n",
              "       242527.282439  , 274253.991975  ])"
            ]
          },
          "metadata": {},
          "execution_count": 4
        }
      ]
    },
    {
      "cell_type": "markdown",
      "metadata": {
        "id": "bGGZUaNSo0zS"
      },
      "source": [
        "# Preprocesado de los datos"
      ]
    },
    {
      "cell_type": "markdown",
      "source": [
        "###### Definimos una función para que adecue los datos de entrada en una red neuronal"
      ],
      "metadata": {
        "id": "clLSKVV7GFo3"
      }
    },
    {
      "cell_type": "code",
      "execution_count": null,
      "metadata": {
        "ExecuteTime": {
          "end_time": "2019-02-25T20:51:04.344102Z",
          "start_time": "2019-02-25T20:51:04.298243Z"
        },
        "id": "SToLIFkvo0zS"
      },
      "outputs": [],
      "source": [
        "# convert series to supervised learning\n",
        "def series_to_supervised(data, n_in=1, n_out=1, dropnan=True):\n",
        "    n_vars = 1 if type(data) is list else data.shape[1]\n",
        "    df = pd.DataFrame(data)\n",
        "    cols, names = list(), list()\n",
        "    # input sequence (t-n, ... t-1)\n",
        "    for i in range(n_in, 0, -1):\n",
        "        cols.append(df.shift(i))\n",
        "        names += [('var%d(t-%d)' % (j+1, i)) for j in range(n_vars)]\n",
        "    # forecast sequence (t, t+1, ... t+n)\n",
        "    for i in range(0, n_out):\n",
        "        cols.append(df.shift(-i))\n",
        "        if i == 0:\n",
        "            names += [('var%d(t)' % (j+1)) for j in range(n_vars)]\n",
        "        else:\n",
        "            names += [('var%d(t+%d)' % (j+1, i)) for j in range(n_vars)]\n",
        "    # put it all together\n",
        "    agg = pd.concat(cols, axis=1)\n",
        "    agg.columns = names\n",
        "    # drop rows with NaN values\n",
        "    if dropnan:\n",
        "        agg.dropna(inplace=True)\n",
        "    return agg"
      ]
    },
    {
      "cell_type": "markdown",
      "source": [
        "##### Creamos una lista"
      ],
      "metadata": {
        "id": "SY3P2jhoGjil"
      }
    },
    {
      "cell_type": "code",
      "source": [
        "Lista  = pd.DataFrame({\n",
        "    'Corte': [],\n",
        "    'Mape': [],\n",
        "    'Mae':[],\n",
        "    'RMSE': []\n",
        "})\n",
        "Lista"
      ],
      "metadata": {
        "colab": {
          "base_uri": "https://localhost:8080/",
          "height": 53
        },
        "id": "AbLyTczyDMxj",
        "outputId": "c3cc65aa-edf7-4a12-c356-ac56df4b8032"
      },
      "execution_count": null,
      "outputs": [
        {
          "output_type": "execute_result",
          "data": {
            "text/plain": [
              "Empty DataFrame\n",
              "Columns: [Corte, Mape, Mae, RMSE]\n",
              "Index: []"
            ],
            "text/html": [
              "\n",
              "  <div id=\"df-b4e67cf6-aa22-459e-a44f-f7a8539f845a\" class=\"colab-df-container\">\n",
              "    <div>\n",
              "<style scoped>\n",
              "    .dataframe tbody tr th:only-of-type {\n",
              "        vertical-align: middle;\n",
              "    }\n",
              "\n",
              "    .dataframe tbody tr th {\n",
              "        vertical-align: top;\n",
              "    }\n",
              "\n",
              "    .dataframe thead th {\n",
              "        text-align: right;\n",
              "    }\n",
              "</style>\n",
              "<table border=\"1\" class=\"dataframe\">\n",
              "  <thead>\n",
              "    <tr style=\"text-align: right;\">\n",
              "      <th></th>\n",
              "      <th>Corte</th>\n",
              "      <th>Mape</th>\n",
              "      <th>Mae</th>\n",
              "      <th>RMSE</th>\n",
              "    </tr>\n",
              "  </thead>\n",
              "  <tbody>\n",
              "  </tbody>\n",
              "</table>\n",
              "</div>\n",
              "    <div class=\"colab-df-buttons\">\n",
              "\n",
              "  <div class=\"colab-df-container\">\n",
              "    <button class=\"colab-df-convert\" onclick=\"convertToInteractive('df-b4e67cf6-aa22-459e-a44f-f7a8539f845a')\"\n",
              "            title=\"Convert this dataframe to an interactive table.\"\n",
              "            style=\"display:none;\">\n",
              "\n",
              "  <svg xmlns=\"http://www.w3.org/2000/svg\" height=\"24px\" viewBox=\"0 -960 960 960\">\n",
              "    <path d=\"M120-120v-720h720v720H120Zm60-500h600v-160H180v160Zm220 220h160v-160H400v160Zm0 220h160v-160H400v160ZM180-400h160v-160H180v160Zm440 0h160v-160H620v160ZM180-180h160v-160H180v160Zm440 0h160v-160H620v160Z\"/>\n",
              "  </svg>\n",
              "    </button>\n",
              "\n",
              "  <style>\n",
              "    .colab-df-container {\n",
              "      display:flex;\n",
              "      gap: 12px;\n",
              "    }\n",
              "\n",
              "    .colab-df-convert {\n",
              "      background-color: #E8F0FE;\n",
              "      border: none;\n",
              "      border-radius: 50%;\n",
              "      cursor: pointer;\n",
              "      display: none;\n",
              "      fill: #1967D2;\n",
              "      height: 32px;\n",
              "      padding: 0 0 0 0;\n",
              "      width: 32px;\n",
              "    }\n",
              "\n",
              "    .colab-df-convert:hover {\n",
              "      background-color: #E2EBFA;\n",
              "      box-shadow: 0px 1px 2px rgba(60, 64, 67, 0.3), 0px 1px 3px 1px rgba(60, 64, 67, 0.15);\n",
              "      fill: #174EA6;\n",
              "    }\n",
              "\n",
              "    .colab-df-buttons div {\n",
              "      margin-bottom: 4px;\n",
              "    }\n",
              "\n",
              "    [theme=dark] .colab-df-convert {\n",
              "      background-color: #3B4455;\n",
              "      fill: #D2E3FC;\n",
              "    }\n",
              "\n",
              "    [theme=dark] .colab-df-convert:hover {\n",
              "      background-color: #434B5C;\n",
              "      box-shadow: 0px 1px 3px 1px rgba(0, 0, 0, 0.15);\n",
              "      filter: drop-shadow(0px 1px 2px rgba(0, 0, 0, 0.3));\n",
              "      fill: #FFFFFF;\n",
              "    }\n",
              "  </style>\n",
              "\n",
              "    <script>\n",
              "      const buttonEl =\n",
              "        document.querySelector('#df-b4e67cf6-aa22-459e-a44f-f7a8539f845a button.colab-df-convert');\n",
              "      buttonEl.style.display =\n",
              "        google.colab.kernel.accessAllowed ? 'block' : 'none';\n",
              "\n",
              "      async function convertToInteractive(key) {\n",
              "        const element = document.querySelector('#df-b4e67cf6-aa22-459e-a44f-f7a8539f845a');\n",
              "        const dataTable =\n",
              "          await google.colab.kernel.invokeFunction('convertToInteractive',\n",
              "                                                    [key], {});\n",
              "        if (!dataTable) return;\n",
              "\n",
              "        const docLinkHtml = 'Like what you see? Visit the ' +\n",
              "          '<a target=\"_blank\" href=https://colab.research.google.com/notebooks/data_table.ipynb>data table notebook</a>'\n",
              "          + ' to learn more about interactive tables.';\n",
              "        element.innerHTML = '';\n",
              "        dataTable['output_type'] = 'display_data';\n",
              "        await google.colab.output.renderOutput(dataTable, element);\n",
              "        const docLink = document.createElement('div');\n",
              "        docLink.innerHTML = docLinkHtml;\n",
              "        element.appendChild(docLink);\n",
              "      }\n",
              "    </script>\n",
              "  </div>\n",
              "\n",
              "    </div>\n",
              "  </div>\n"
            ]
          },
          "metadata": {},
          "execution_count": 15
        }
      ]
    },
    {
      "cell_type": "markdown",
      "source": [
        "##### Este bucle nos devuelve, para varios cortes(nodos de entrada), los diferentes valores en MAE, MAPE Y RMSE."
      ],
      "metadata": {
        "id": "dQbyDclOG2Nz"
      }
    },
    {
      "cell_type": "code",
      "source": [
        "for i in range(3,50):\n",
        "  def crear_modeloFF():\n",
        "    model = Sequential()\n",
        "    model.add(Dense(i, input_shape=(1,i),activation='linear'))\n",
        "    model.add(Flatten())\n",
        "    model.add(Dense(1, activation='linear'))\n",
        "    model.compile(loss='mean_absolute_error',optimizer='Adam',metrics=[\"mse\"])\n",
        "    model.summary()\n",
        "    return model\n",
        "  # load dataset\n",
        "  values = df.values\n",
        "  # ensure all data is float\n",
        "  values = values.astype('float32')\n",
        "  # normalize features\n",
        "  scaler = MinMaxScaler(feature_range=(-1, 1))\n",
        "  values=values.reshape(-1, 1) # esto lo hacemos porque tenemos 1 sola dimension\n",
        "  scaled = scaler.fit_transform(values)\n",
        "  # frame as supervised learning\n",
        "  reframed = series_to_supervised(scaled, i, 1)\n",
        "\n",
        "  values = reframed.values\n",
        "  n_train_days = 270 - (18+i)\n",
        "  train = values[:n_train_days, :]\n",
        "  test = values[n_train_days:, :]\n",
        "  # split into input and outputs\n",
        "  x_train, y_train = train[:, :-1], train[:, -1]\n",
        "  x_val, y_val = test[:, :-1], test[:, -1]\n",
        "  # reshape input to be 3D [samples, timesteps, features]\n",
        "  x_train = x_train.reshape((x_train.shape[0], 1, x_train.shape[1]))\n",
        "  x_val = x_val.reshape((x_val.shape[0], 1, x_val.shape[1]))\n",
        "  print(x_train.shape, y_train.shape, x_val.shape, y_val.shape)\n",
        "  EPOCHS=40\n",
        "  model = crear_modeloFF()\n",
        "  history=model.fit(x_train,y_train,epochs=EPOCHS,validation_data=(x_val,y_val),batch_size=i)\n",
        "  results=model.predict(x_val)\n",
        "  compara = pd.DataFrame(np.array([y_val, [x[0] for x in results]])).transpose()\n",
        "  compara.columns = ['real', 'prediccion']\n",
        "\n",
        "  inverted = scaler.inverse_transform(compara.values)\n",
        "\n",
        "  compara2 = pd.DataFrame(inverted)\n",
        "  compara2.columns = ['real', 'prediccion']\n",
        "  compara2['diferencia'] = compara2['real'] - compara2['prediccion']\n",
        "\n",
        "  y_pred_test = np.array(compara2['prediccion'])\n",
        "  Serie_plata_predic = y_pred_test + Predicciones\n",
        "  Serie_plata_predic\n",
        "\n",
        "  MAPE = np.mean(np.abs((Serie_plata-Serie_plata_predic)/(Serie_plata)*100))\n",
        "  MAE = mean_absolute_error(Serie_plata, Serie_plata_predic)\n",
        "  RMSE = sqrt(mean_squared_error(Serie_plata, Serie_plata_predic))\n",
        "  nueva_fila = {'Corte': i, 'Mape': MAPE, 'Mae':MAE,'RMSE': RMSE}\n",
        "  Lista = Lista.append(nueva_fila, ignore_index=True)"
      ],
      "metadata": {
        "id": "OQpTwl0x6Evi"
      },
      "execution_count": null,
      "outputs": []
    },
    {
      "cell_type": "markdown",
      "source": [
        "####### De todos los cortes posibles, se obtiene el que tiene menor MAPE."
      ],
      "metadata": {
        "id": "f7nkfY0tHEeg"
      }
    },
    {
      "cell_type": "code",
      "source": [
        "Lista.loc[Lista['Mape'].idxmin()]"
      ],
      "metadata": {
        "colab": {
          "base_uri": "https://localhost:8080/"
        },
        "id": "XeZMNQlSpLmi",
        "outputId": "c2683f01-c5da-4eca-df89-455f47e0b4bd"
      },
      "execution_count": null,
      "outputs": [
        {
          "output_type": "execute_result",
          "data": {
            "text/plain": [
              "Corte        3.000000\n",
              "Mape         4.101647\n",
              "Mae       9877.024290\n",
              "RMSE     13163.489109\n",
              "Name: 0, dtype: float64"
            ]
          },
          "metadata": {},
          "execution_count": 22
        }
      ]
    }
  ],
  "metadata": {
    "kernelspec": {
      "display_name": "Python 3 (ipykernel)",
      "language": "python",
      "name": "python3"
    },
    "language_info": {
      "codemirror_mode": {
        "name": "ipython",
        "version": 3
      },
      "file_extension": ".py",
      "mimetype": "text/x-python",
      "name": "python",
      "nbconvert_exporter": "python",
      "pygments_lexer": "ipython3",
      "version": "3.11.3"
    },
    "colab": {
      "provenance": []
    }
  },
  "nbformat": 4,
  "nbformat_minor": 0
}